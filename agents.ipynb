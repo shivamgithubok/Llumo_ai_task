{
  "cells": [
    {
      "cell_type": "code",
      "execution_count": 2,
      "metadata": {
        "colab": {
          "base_uri": "https://localhost:8080/",
          "height": 1000
        },
        "id": "InRQiylLDXF5",
        "outputId": "dab80804-eb11-4e4d-fa56-64274a21db5a"
      },
      "outputs": [
        {
          "name": "stdout",
          "output_type": "stream",
          "text": [
            "Collecting langchain_google_genai\n",
            "  Downloading langchain_google_genai-2.1.9-py3-none-any.whl.metadata (7.2 kB)\n",
            "Collecting filetype<2.0.0,>=1.2.0 (from langchain_google_genai)\n",
            "  Downloading filetype-1.2.0-py2.py3-none-any.whl.metadata (6.5 kB)\n",
            "Collecting google-ai-generativelanguage<0.7.0,>=0.6.18 (from langchain_google_genai)\n",
            "  Downloading google_ai_generativelanguage-0.6.18-py3-none-any.whl.metadata (9.8 kB)\n",
            "Requirement already satisfied: langchain-core<0.4.0,>=0.3.68 in /usr/local/lib/python3.12/dist-packages (from langchain_google_genai) (0.3.74)\n",
            "Requirement already satisfied: pydantic<3,>=2 in /usr/local/lib/python3.12/dist-packages (from langchain_google_genai) (2.11.7)\n",
            "Requirement already satisfied: google-api-core!=2.0.*,!=2.1.*,!=2.10.*,!=2.2.*,!=2.3.*,!=2.4.*,!=2.5.*,!=2.6.*,!=2.7.*,!=2.8.*,!=2.9.*,<3.0.0,>=1.34.1 in /usr/local/lib/python3.12/dist-packages (from google-api-core[grpc]!=2.0.*,!=2.1.*,!=2.10.*,!=2.2.*,!=2.3.*,!=2.4.*,!=2.5.*,!=2.6.*,!=2.7.*,!=2.8.*,!=2.9.*,<3.0.0,>=1.34.1->google-ai-generativelanguage<0.7.0,>=0.6.18->langchain_google_genai) (2.25.1)\n",
            "Requirement already satisfied: google-auth!=2.24.0,!=2.25.0,<3.0.0,>=2.14.1 in /usr/local/lib/python3.12/dist-packages (from google-ai-generativelanguage<0.7.0,>=0.6.18->langchain_google_genai) (2.38.0)\n",
            "Requirement already satisfied: proto-plus<2.0.0,>=1.22.3 in /usr/local/lib/python3.12/dist-packages (from google-ai-generativelanguage<0.7.0,>=0.6.18->langchain_google_genai) (1.26.1)\n",
            "Requirement already satisfied: protobuf!=4.21.0,!=4.21.1,!=4.21.2,!=4.21.3,!=4.21.4,!=4.21.5,<7.0.0,>=3.20.2 in /usr/local/lib/python3.12/dist-packages (from google-ai-generativelanguage<0.7.0,>=0.6.18->langchain_google_genai) (5.29.5)\n",
            "Requirement already satisfied: langsmith>=0.3.45 in /usr/local/lib/python3.12/dist-packages (from langchain-core<0.4.0,>=0.3.68->langchain_google_genai) (0.4.14)\n",
            "Requirement already satisfied: tenacity!=8.4.0,<10.0.0,>=8.1.0 in /usr/local/lib/python3.12/dist-packages (from langchain-core<0.4.0,>=0.3.68->langchain_google_genai) (8.5.0)\n",
            "Requirement already satisfied: jsonpatch<2.0,>=1.33 in /usr/local/lib/python3.12/dist-packages (from langchain-core<0.4.0,>=0.3.68->langchain_google_genai) (1.33)\n",
            "Requirement already satisfied: PyYAML>=5.3 in /usr/local/lib/python3.12/dist-packages (from langchain-core<0.4.0,>=0.3.68->langchain_google_genai) (6.0.2)\n",
            "Requirement already satisfied: typing-extensions>=4.7 in /usr/local/lib/python3.12/dist-packages (from langchain-core<0.4.0,>=0.3.68->langchain_google_genai) (4.14.1)\n",
            "Requirement already satisfied: packaging>=23.2 in /usr/local/lib/python3.12/dist-packages (from langchain-core<0.4.0,>=0.3.68->langchain_google_genai) (25.0)\n",
            "Requirement already satisfied: annotated-types>=0.6.0 in /usr/local/lib/python3.12/dist-packages (from pydantic<3,>=2->langchain_google_genai) (0.7.0)\n",
            "Requirement already satisfied: pydantic-core==2.33.2 in /usr/local/lib/python3.12/dist-packages (from pydantic<3,>=2->langchain_google_genai) (2.33.2)\n",
            "Requirement already satisfied: typing-inspection>=0.4.0 in /usr/local/lib/python3.12/dist-packages (from pydantic<3,>=2->langchain_google_genai) (0.4.1)\n",
            "Requirement already satisfied: googleapis-common-protos<2.0.0,>=1.56.2 in /usr/local/lib/python3.12/dist-packages (from google-api-core!=2.0.*,!=2.1.*,!=2.10.*,!=2.2.*,!=2.3.*,!=2.4.*,!=2.5.*,!=2.6.*,!=2.7.*,!=2.8.*,!=2.9.*,<3.0.0,>=1.34.1->google-api-core[grpc]!=2.0.*,!=2.1.*,!=2.10.*,!=2.2.*,!=2.3.*,!=2.4.*,!=2.5.*,!=2.6.*,!=2.7.*,!=2.8.*,!=2.9.*,<3.0.0,>=1.34.1->google-ai-generativelanguage<0.7.0,>=0.6.18->langchain_google_genai) (1.70.0)\n",
            "Requirement already satisfied: requests<3.0.0,>=2.18.0 in /usr/local/lib/python3.12/dist-packages (from google-api-core!=2.0.*,!=2.1.*,!=2.10.*,!=2.2.*,!=2.3.*,!=2.4.*,!=2.5.*,!=2.6.*,!=2.7.*,!=2.8.*,!=2.9.*,<3.0.0,>=1.34.1->google-api-core[grpc]!=2.0.*,!=2.1.*,!=2.10.*,!=2.2.*,!=2.3.*,!=2.4.*,!=2.5.*,!=2.6.*,!=2.7.*,!=2.8.*,!=2.9.*,<3.0.0,>=1.34.1->google-ai-generativelanguage<0.7.0,>=0.6.18->langchain_google_genai) (2.32.4)\n",
            "Requirement already satisfied: grpcio<2.0.0,>=1.33.2 in /usr/local/lib/python3.12/dist-packages (from google-api-core[grpc]!=2.0.*,!=2.1.*,!=2.10.*,!=2.2.*,!=2.3.*,!=2.4.*,!=2.5.*,!=2.6.*,!=2.7.*,!=2.8.*,!=2.9.*,<3.0.0,>=1.34.1->google-ai-generativelanguage<0.7.0,>=0.6.18->langchain_google_genai) (1.74.0)\n",
            "Requirement already satisfied: grpcio-status<2.0.0,>=1.33.2 in /usr/local/lib/python3.12/dist-packages (from google-api-core[grpc]!=2.0.*,!=2.1.*,!=2.10.*,!=2.2.*,!=2.3.*,!=2.4.*,!=2.5.*,!=2.6.*,!=2.7.*,!=2.8.*,!=2.9.*,<3.0.0,>=1.34.1->google-ai-generativelanguage<0.7.0,>=0.6.18->langchain_google_genai) (1.71.2)\n",
            "Requirement already satisfied: cachetools<6.0,>=2.0.0 in /usr/local/lib/python3.12/dist-packages (from google-auth!=2.24.0,!=2.25.0,<3.0.0,>=2.14.1->google-ai-generativelanguage<0.7.0,>=0.6.18->langchain_google_genai) (5.5.2)\n",
            "Requirement already satisfied: pyasn1-modules>=0.2.1 in /usr/local/lib/python3.12/dist-packages (from google-auth!=2.24.0,!=2.25.0,<3.0.0,>=2.14.1->google-ai-generativelanguage<0.7.0,>=0.6.18->langchain_google_genai) (0.4.2)\n",
            "Requirement already satisfied: rsa<5,>=3.1.4 in /usr/local/lib/python3.12/dist-packages (from google-auth!=2.24.0,!=2.25.0,<3.0.0,>=2.14.1->google-ai-generativelanguage<0.7.0,>=0.6.18->langchain_google_genai) (4.9.1)\n",
            "Requirement already satisfied: jsonpointer>=1.9 in /usr/local/lib/python3.12/dist-packages (from jsonpatch<2.0,>=1.33->langchain-core<0.4.0,>=0.3.68->langchain_google_genai) (3.0.0)\n",
            "Requirement already satisfied: httpx<1,>=0.23.0 in /usr/local/lib/python3.12/dist-packages (from langsmith>=0.3.45->langchain-core<0.4.0,>=0.3.68->langchain_google_genai) (0.28.1)\n",
            "Requirement already satisfied: orjson>=3.9.14 in /usr/local/lib/python3.12/dist-packages (from langsmith>=0.3.45->langchain-core<0.4.0,>=0.3.68->langchain_google_genai) (3.11.2)\n",
            "Requirement already satisfied: requests-toolbelt>=1.0.0 in /usr/local/lib/python3.12/dist-packages (from langsmith>=0.3.45->langchain-core<0.4.0,>=0.3.68->langchain_google_genai) (1.0.0)\n",
            "Requirement already satisfied: zstandard>=0.23.0 in /usr/local/lib/python3.12/dist-packages (from langsmith>=0.3.45->langchain-core<0.4.0,>=0.3.68->langchain_google_genai) (0.24.0)\n",
            "Requirement already satisfied: anyio in /usr/local/lib/python3.12/dist-packages (from httpx<1,>=0.23.0->langsmith>=0.3.45->langchain-core<0.4.0,>=0.3.68->langchain_google_genai) (4.10.0)\n",
            "Requirement already satisfied: certifi in /usr/local/lib/python3.12/dist-packages (from httpx<1,>=0.23.0->langsmith>=0.3.45->langchain-core<0.4.0,>=0.3.68->langchain_google_genai) (2025.8.3)\n",
            "Requirement already satisfied: httpcore==1.* in /usr/local/lib/python3.12/dist-packages (from httpx<1,>=0.23.0->langsmith>=0.3.45->langchain-core<0.4.0,>=0.3.68->langchain_google_genai) (1.0.9)\n",
            "Requirement already satisfied: idna in /usr/local/lib/python3.12/dist-packages (from httpx<1,>=0.23.0->langsmith>=0.3.45->langchain-core<0.4.0,>=0.3.68->langchain_google_genai) (3.10)\n",
            "Requirement already satisfied: h11>=0.16 in /usr/local/lib/python3.12/dist-packages (from httpcore==1.*->httpx<1,>=0.23.0->langsmith>=0.3.45->langchain-core<0.4.0,>=0.3.68->langchain_google_genai) (0.16.0)\n",
            "Requirement already satisfied: pyasn1<0.7.0,>=0.6.1 in /usr/local/lib/python3.12/dist-packages (from pyasn1-modules>=0.2.1->google-auth!=2.24.0,!=2.25.0,<3.0.0,>=2.14.1->google-ai-generativelanguage<0.7.0,>=0.6.18->langchain_google_genai) (0.6.1)\n",
            "Requirement already satisfied: charset_normalizer<4,>=2 in /usr/local/lib/python3.12/dist-packages (from requests<3.0.0,>=2.18.0->google-api-core!=2.0.*,!=2.1.*,!=2.10.*,!=2.2.*,!=2.3.*,!=2.4.*,!=2.5.*,!=2.6.*,!=2.7.*,!=2.8.*,!=2.9.*,<3.0.0,>=1.34.1->google-api-core[grpc]!=2.0.*,!=2.1.*,!=2.10.*,!=2.2.*,!=2.3.*,!=2.4.*,!=2.5.*,!=2.6.*,!=2.7.*,!=2.8.*,!=2.9.*,<3.0.0,>=1.34.1->google-ai-generativelanguage<0.7.0,>=0.6.18->langchain_google_genai) (3.4.3)\n",
            "Requirement already satisfied: urllib3<3,>=1.21.1 in /usr/local/lib/python3.12/dist-packages (from requests<3.0.0,>=2.18.0->google-api-core!=2.0.*,!=2.1.*,!=2.10.*,!=2.2.*,!=2.3.*,!=2.4.*,!=2.5.*,!=2.6.*,!=2.7.*,!=2.8.*,!=2.9.*,<3.0.0,>=1.34.1->google-api-core[grpc]!=2.0.*,!=2.1.*,!=2.10.*,!=2.2.*,!=2.3.*,!=2.4.*,!=2.5.*,!=2.6.*,!=2.7.*,!=2.8.*,!=2.9.*,<3.0.0,>=1.34.1->google-ai-generativelanguage<0.7.0,>=0.6.18->langchain_google_genai) (2.5.0)\n",
            "Requirement already satisfied: sniffio>=1.1 in /usr/local/lib/python3.12/dist-packages (from anyio->httpx<1,>=0.23.0->langsmith>=0.3.45->langchain-core<0.4.0,>=0.3.68->langchain_google_genai) (1.3.1)\n",
            "Downloading langchain_google_genai-2.1.9-py3-none-any.whl (49 kB)\n",
            "\u001b[2K   \u001b[90m━━━━━━━━━━━━━━━━━━━━━━━━━━━━━━━━━━━━━━━━\u001b[0m \u001b[32m49.4/49.4 kB\u001b[0m \u001b[31m3.7 MB/s\u001b[0m eta \u001b[36m0:00:00\u001b[0m\n",
            "\u001b[?25hDownloading filetype-1.2.0-py2.py3-none-any.whl (19 kB)\n",
            "Downloading google_ai_generativelanguage-0.6.18-py3-none-any.whl (1.4 MB)\n",
            "\u001b[2K   \u001b[90m━━━━━━━━━━━━━━━━━━━━━━━━━━━━━━━━━━━━━━━━\u001b[0m \u001b[32m1.4/1.4 MB\u001b[0m \u001b[31m58.6 MB/s\u001b[0m eta \u001b[36m0:00:00\u001b[0m\n",
            "\u001b[?25hInstalling collected packages: filetype, google-ai-generativelanguage, langchain_google_genai\n",
            "  Attempting uninstall: google-ai-generativelanguage\n",
            "    Found existing installation: google-ai-generativelanguage 0.6.15\n",
            "    Uninstalling google-ai-generativelanguage-0.6.15:\n",
            "      Successfully uninstalled google-ai-generativelanguage-0.6.15\n",
            "\u001b[31mERROR: pip's dependency resolver does not currently take into account all the packages that are installed. This behaviour is the source of the following dependency conflicts.\n",
            "google-generativeai 0.8.5 requires google-ai-generativelanguage==0.6.15, but you have google-ai-generativelanguage 0.6.18 which is incompatible.\u001b[0m\u001b[31m\n",
            "\u001b[0mSuccessfully installed filetype-1.2.0 google-ai-generativelanguage-0.6.18 langchain_google_genai-2.1.9\n"
          ]
        },
        {
          "data": {
            "application/vnd.colab-display-data+json": {
              "id": "f074f0215d534e23a772757acaca2a45",
              "pip_warning": {
                "packages": [
                  "google"
                ]
              }
            }
          },
          "metadata": {},
          "output_type": "display_data"
        },
        {
          "name": "stdout",
          "output_type": "stream",
          "text": [
            "Requirement already satisfied: numexpr in /usr/local/lib/python3.12/dist-packages (2.11.0)\n",
            "Requirement already satisfied: numpy>=1.23.0 in /usr/local/lib/python3.12/dist-packages (from numexpr) (2.0.2)\n",
            "Collecting langgraph\n",
            "  Downloading langgraph-0.6.6-py3-none-any.whl.metadata (6.8 kB)\n",
            "Requirement already satisfied: langchain-core>=0.1 in /usr/local/lib/python3.12/dist-packages (from langgraph) (0.3.74)\n",
            "Collecting langgraph-checkpoint<3.0.0,>=2.1.0 (from langgraph)\n",
            "  Downloading langgraph_checkpoint-2.1.1-py3-none-any.whl.metadata (4.2 kB)\n",
            "Collecting langgraph-prebuilt<0.7.0,>=0.6.0 (from langgraph)\n",
            "  Downloading langgraph_prebuilt-0.6.4-py3-none-any.whl.metadata (4.5 kB)\n",
            "Collecting langgraph-sdk<0.3.0,>=0.2.2 (from langgraph)\n",
            "  Downloading langgraph_sdk-0.2.3-py3-none-any.whl.metadata (1.5 kB)\n",
            "Requirement already satisfied: pydantic>=2.7.4 in /usr/local/lib/python3.12/dist-packages (from langgraph) (2.11.7)\n",
            "Requirement already satisfied: xxhash>=3.5.0 in /usr/local/lib/python3.12/dist-packages (from langgraph) (3.5.0)\n",
            "Requirement already satisfied: langsmith>=0.3.45 in /usr/local/lib/python3.12/dist-packages (from langchain-core>=0.1->langgraph) (0.4.14)\n",
            "Requirement already satisfied: tenacity!=8.4.0,<10.0.0,>=8.1.0 in /usr/local/lib/python3.12/dist-packages (from langchain-core>=0.1->langgraph) (8.5.0)\n",
            "Requirement already satisfied: jsonpatch<2.0,>=1.33 in /usr/local/lib/python3.12/dist-packages (from langchain-core>=0.1->langgraph) (1.33)\n",
            "Requirement already satisfied: PyYAML>=5.3 in /usr/local/lib/python3.12/dist-packages (from langchain-core>=0.1->langgraph) (6.0.2)\n",
            "Requirement already satisfied: typing-extensions>=4.7 in /usr/local/lib/python3.12/dist-packages (from langchain-core>=0.1->langgraph) (4.14.1)\n",
            "Requirement already satisfied: packaging>=23.2 in /usr/local/lib/python3.12/dist-packages (from langchain-core>=0.1->langgraph) (25.0)\n",
            "Collecting ormsgpack>=1.10.0 (from langgraph-checkpoint<3.0.0,>=2.1.0->langgraph)\n",
            "  Downloading ormsgpack-1.10.0-cp312-cp312-manylinux_2_17_x86_64.manylinux2014_x86_64.whl.metadata (43 kB)\n",
            "\u001b[2K     \u001b[90m━━━━━━━━━━━━━━━━━━━━━━━━━━━━━━━━━━━━━━━━\u001b[0m \u001b[32m43.7/43.7 kB\u001b[0m \u001b[31m3.2 MB/s\u001b[0m eta \u001b[36m0:00:00\u001b[0m\n",
            "\u001b[?25hRequirement already satisfied: httpx>=0.25.2 in /usr/local/lib/python3.12/dist-packages (from langgraph-sdk<0.3.0,>=0.2.2->langgraph) (0.28.1)\n",
            "Requirement already satisfied: orjson>=3.10.1 in /usr/local/lib/python3.12/dist-packages (from langgraph-sdk<0.3.0,>=0.2.2->langgraph) (3.11.2)\n",
            "Requirement already satisfied: annotated-types>=0.6.0 in /usr/local/lib/python3.12/dist-packages (from pydantic>=2.7.4->langgraph) (0.7.0)\n",
            "Requirement already satisfied: pydantic-core==2.33.2 in /usr/local/lib/python3.12/dist-packages (from pydantic>=2.7.4->langgraph) (2.33.2)\n",
            "Requirement already satisfied: typing-inspection>=0.4.0 in /usr/local/lib/python3.12/dist-packages (from pydantic>=2.7.4->langgraph) (0.4.1)\n",
            "Requirement already satisfied: anyio in /usr/local/lib/python3.12/dist-packages (from httpx>=0.25.2->langgraph-sdk<0.3.0,>=0.2.2->langgraph) (4.10.0)\n",
            "Requirement already satisfied: certifi in /usr/local/lib/python3.12/dist-packages (from httpx>=0.25.2->langgraph-sdk<0.3.0,>=0.2.2->langgraph) (2025.8.3)\n",
            "Requirement already satisfied: httpcore==1.* in /usr/local/lib/python3.12/dist-packages (from httpx>=0.25.2->langgraph-sdk<0.3.0,>=0.2.2->langgraph) (1.0.9)\n",
            "Requirement already satisfied: idna in /usr/local/lib/python3.12/dist-packages (from httpx>=0.25.2->langgraph-sdk<0.3.0,>=0.2.2->langgraph) (3.10)\n",
            "Requirement already satisfied: h11>=0.16 in /usr/local/lib/python3.12/dist-packages (from httpcore==1.*->httpx>=0.25.2->langgraph-sdk<0.3.0,>=0.2.2->langgraph) (0.16.0)\n",
            "Requirement already satisfied: jsonpointer>=1.9 in /usr/local/lib/python3.12/dist-packages (from jsonpatch<2.0,>=1.33->langchain-core>=0.1->langgraph) (3.0.0)\n",
            "Requirement already satisfied: requests-toolbelt>=1.0.0 in /usr/local/lib/python3.12/dist-packages (from langsmith>=0.3.45->langchain-core>=0.1->langgraph) (1.0.0)\n",
            "Requirement already satisfied: requests>=2.0.0 in /usr/local/lib/python3.12/dist-packages (from langsmith>=0.3.45->langchain-core>=0.1->langgraph) (2.32.4)\n",
            "Requirement already satisfied: zstandard>=0.23.0 in /usr/local/lib/python3.12/dist-packages (from langsmith>=0.3.45->langchain-core>=0.1->langgraph) (0.24.0)\n",
            "Requirement already satisfied: charset_normalizer<4,>=2 in /usr/local/lib/python3.12/dist-packages (from requests>=2.0.0->langsmith>=0.3.45->langchain-core>=0.1->langgraph) (3.4.3)\n",
            "Requirement already satisfied: urllib3<3,>=1.21.1 in /usr/local/lib/python3.12/dist-packages (from requests>=2.0.0->langsmith>=0.3.45->langchain-core>=0.1->langgraph) (2.5.0)\n",
            "Requirement already satisfied: sniffio>=1.1 in /usr/local/lib/python3.12/dist-packages (from anyio->httpx>=0.25.2->langgraph-sdk<0.3.0,>=0.2.2->langgraph) (1.3.1)\n",
            "Downloading langgraph-0.6.6-py3-none-any.whl (153 kB)\n",
            "\u001b[2K   \u001b[90m━━━━━━━━━━━━━━━━━━━━━━━━━━━━━━━━━━━━━━━━\u001b[0m \u001b[32m153.3/153.3 kB\u001b[0m \u001b[31m12.0 MB/s\u001b[0m eta \u001b[36m0:00:00\u001b[0m\n",
            "\u001b[?25hDownloading langgraph_checkpoint-2.1.1-py3-none-any.whl (43 kB)\n",
            "\u001b[2K   \u001b[90m━━━━━━━━━━━━━━━━━━━━━━━━━━━━━━━━━━━━━━━━\u001b[0m \u001b[32m43.9/43.9 kB\u001b[0m \u001b[31m3.2 MB/s\u001b[0m eta \u001b[36m0:00:00\u001b[0m\n",
            "\u001b[?25hDownloading langgraph_prebuilt-0.6.4-py3-none-any.whl (28 kB)\n",
            "Downloading langgraph_sdk-0.2.3-py3-none-any.whl (52 kB)\n",
            "\u001b[2K   \u001b[90m━━━━━━━━━━━━━━━━━━━━━━━━━━━━━━━━━━━━━━━━\u001b[0m \u001b[32m52.6/52.6 kB\u001b[0m \u001b[31m3.9 MB/s\u001b[0m eta \u001b[36m0:00:00\u001b[0m\n",
            "\u001b[?25hDownloading ormsgpack-1.10.0-cp312-cp312-manylinux_2_17_x86_64.manylinux2014_x86_64.whl (216 kB)\n",
            "\u001b[2K   \u001b[90m━━━━━━━━━━━━━━━━━━━━━━━━━━━━━━━━━━━━━━━━\u001b[0m \u001b[32m216.7/216.7 kB\u001b[0m \u001b[31m15.2 MB/s\u001b[0m eta \u001b[36m0:00:00\u001b[0m\n",
            "\u001b[?25hInstalling collected packages: ormsgpack, langgraph-sdk, langgraph-checkpoint, langgraph-prebuilt, langgraph\n",
            "Successfully installed langgraph-0.6.6 langgraph-checkpoint-2.1.1 langgraph-prebuilt-0.6.4 langgraph-sdk-0.2.3 ormsgpack-1.10.0\n"
          ]
        }
      ],
      "source": [
        "!pip install langchain_google_genai\n",
        "!pip install numexpr\n",
        "!pip install langgraph"
      ]
    },
    {
      "cell_type": "code",
      "execution_count": null,
      "metadata": {
        "id": "abNJsWOrDVDV"
      },
      "outputs": [],
      "source": [
        "# agent.py\n",
        "import json\n",
        "from typing import TypedDict, Annotated, Sequence\n",
        "import re\n",
        "import numexpr\n",
        "from langchain_google_genai import ChatGoogleGenerativeAI\n",
        "from langchain_core.messages import BaseMessage, ToolMessage, HumanMessage, SystemMessage\n",
        "from langchain_core.prompts import ChatPromptTemplate, MessagesPlaceholder\n",
        "from langchain_core.tools import tool\n",
        "from langgraph.graph import StateGraph, END\n",
        "from langgraph.prebuilt import ToolNode\n"
      ]
    },
    {
      "cell_type": "code",
      "execution_count": null,
      "metadata": {
        "id": "8-Wl0OwrDtja"
      },
      "outputs": [],
      "source": [
        "# Knowlwdgebase"
      ]
    },
    {
      "cell_type": "code",
      "execution_count": 81,
      "metadata": {
        "id": "V9yUPbGYDwbX"
      },
      "outputs": [],
      "source": [
        "KB = {\n",
        "    \"DOC-1\": {\n",
        "        \"title\": \"LLUMO AI – Core Value\",\n",
        "        \"text\": \"LLUMO AI is an evaluation-first reliability layer for LLM apps. It focuses on automated scoring, actionable insights, and cost savings via prompt compression—helping teams ship trustworthy AI.\"\n",
        "    },\n",
        "    \"DOC-2\": {\n",
        "        \"title\": \"LLUMO AI – Debugger\",\n",
        "        \"text\": \"LLUMO’s Debugger shows run-level logs, stepwise tool traces, and a flow graph to isolate failure points such as tool selection errors or context mismatch.\"\n",
        "    },\n",
        "    \"DOC-3\": {\n",
        "        \"title\": \"Company Policy – Working Hours\",\n",
        "        \"text\": \"Standard working hours are 10:00 to 18:30 IST, Monday to Friday. Flexible timings are allowed with manager approval.\"\n",
        "    },\n",
        "    \"DOC-4\": {\n",
        "        \"title\": \"Finance FAQ – Reimbursements\",\n",
        "        \"text\": \"Submit reimbursements within 30 days. Keep original receipts. Typical settlement time is 7 business days after approval.\"\n",
        "    },\n",
        "    \"DOC-5\": {\n",
        "        \"title\": \"Math Snippets\",\n",
        "        \"text\": \"Examples: (125 * 6) - 50 = 700; 15% of 640 = 96; Average of [10, 20, 30, 40] = 25.\"\n",
        "    }\n",
        "}"
      ]
    },
    {
      "cell_type": "code",
      "execution_count": null,
      "metadata": {
        "id": "glwL7-xxD2Z8"
      },
      "outputs": [],
      "source": [
        "# --- Tool Implementations ---"
      ]
    },
    {
      "cell_type": "code",
      "execution_count": null,
      "metadata": {
        "id": "avD-8-QvD8kH"
      },
      "outputs": [],
      "source": [
        "\n",
        "@tool\n",
        "def retriever(query: str, k: int = 1) -> list[str]:\n",
        "    \"\"\"\n",
        "    Loads the Knowledge Base and returns the top-K passages that are most relevant to the query.\n",
        "    This is a general-purpose tool for finding information.\n",
        "    \"\"\"\n",
        "    query_words = set(query.lower().split())\n",
        "    scores = {}\n",
        "    for doc_id, content in KB.items():\n",
        "        doc_words = set(content['title'].lower().split()) | set(content['text'].lower().split())\n",
        "        score = len(query_words.intersection(doc_words))\n",
        "        if score > 0:\n",
        "            scores[doc_id] = score\n",
        "    sorted_docs = sorted(scores.items(), key=lambda item: item[1], reverse=True)\n",
        "    return [KB[doc_id]['text'] for doc_id, _ in sorted_docs[:k]]\n",
        "\n",
        "@tool\n",
        "def policy_lookup(query: str) -> str:\n",
        "    \"\"\"\n",
        "    A specialized tool to look up information specifically from policy or FAQ documents.\n",
        "    This is a shortcut to the retriever for common internal queries.\n",
        "    \"\"\"\n",
        "    query_words = set(query.lower().split())\n",
        "\n",
        "    policy_docs = {\n",
        "        doc_id: content for doc_id, content in KB.items()\n",
        "        if \"policy\" in content['title'].lower() or \"faq\" in content['title'].lower()\n",
        "    }\n",
        "\n",
        "    scores = {}\n",
        "    for doc_id, content in policy_docs.items():\n",
        "        doc_words = set(content['title'].lower().split()) | set(content['text'].lower().split())\n",
        "        score = len(query_words.intersection(doc_words))\n",
        "        if score > 0:\n",
        "            scores[doc_id] = score\n",
        "\n",
        "    if not scores:\n",
        "        return \"No specific policy or FAQ document found that matches the query.\"\n",
        "\n",
        "    best_doc_id = max(scores, key=scores.get)\n",
        "    return KB[best_doc_id]['text']\n",
        "\n",
        "@tool\n",
        "def calculator(expression: str) -> str:\n",
        "    \"\"\"\n",
        "    Performs arithmetic calculations safely.\n",
        "    It can handle standard mathematical operations.\n",
        "    For percentages, please convert them to decimals (e.g., 15% of 640 should be input as '0.15 * 640').\n",
        "    \"\"\"\n",
        "    try:\n",
        "        result = numexpr.evaluate(expression).item()\n",
        "        return f\"The result of the expression '{expression}' is: {result}\"\n",
        "    except Exception as e:\n",
        "        return f\"Error: Could not evaluate the expression. Details: {e}\"\n",
        "\n",
        "@tool\n",
        "def string_tools(text: str, extract: str) -> list[str]:\n",
        "    \"\"\"\n",
        "    A utility tool to extract specific patterns from a given text.\n",
        "    'extract' can be 'numbers' or 'percentages'.\n",
        "    \"\"\"\n",
        "    if extract.lower() == \"numbers\":\n",
        "        return re.findall(r'\\d+\\.\\d+|\\d+', text)\n",
        "    elif extract.lower() == \"percentages\":\n",
        "        return re.findall(r'\\d+\\s*%', text)\n",
        "    else:\n",
        "        return [\"Error: Invalid 'extract' parameter. Please use 'numbers' or 'percentages'.\"]\n",
        "\n",
        "# A list containing all the tools that the agent can use.\n",
        "all_tools = [retriever, policy_lookup, calculator, string_tools]"
      ]
    },
    {
      "cell_type": "code",
      "execution_count": 85,
      "metadata": {
        "id": "5J8CITBqEVX3"
      },
      "outputs": [],
      "source": [
        "# --- 1. Define Agent State ---\n",
        "class AgentState(TypedDict):\n",
        "    messages: Annotated[Sequence[BaseMessage], lambda x, y: x + y]"
      ]
    },
    {
      "cell_type": "code",
      "execution_count": 86,
      "metadata": {
        "id": "jvStgITCH_ea"
      },
      "outputs": [],
      "source": [
        "prompt = ChatPromptTemplate.from_messages(\n",
        "    [\n",
        "        (\n",
        "            \"system\",\n",
        "            \"You are a helpful assistant designed to answer user queries. You MUST use the tools provided to find the information. Do not apologize or say you cannot access information. Use the tools to get the answer.\",\n",
        "        ),\n",
        "        MessagesPlaceholder(variable_name=\"messages\"),\n",
        "    ]\n",
        ")\n"
      ]
    },
    {
      "cell_type": "code",
      "execution_count": null,
      "metadata": {
        "id": "Ihj0-B5PEg0h"
      },
      "outputs": [],
      "source": [
        "# model use gemini api 2.0-flash"
      ]
    },
    {
      "cell_type": "code",
      "execution_count": null,
      "metadata": {
        "id": "CxegoeXgEksj"
      },
      "outputs": [],
      "source": [
        "api_key = \"\""
      ]
    },
    {
      "cell_type": "code",
      "execution_count": 89,
      "metadata": {
        "id": "23SFw4JKEicv"
      },
      "outputs": [],
      "source": [
        "model = ChatGoogleGenerativeAI(temperature=0.3, model=\"gemini-2.0-flash\",api_key=api_key)"
      ]
    },
    {
      "cell_type": "code",
      "execution_count": 90,
      "metadata": {
        "id": "DYirTye4E254"
      },
      "outputs": [],
      "source": [
        "model = model.bind_tools(all_tools)"
      ]
    },
    {
      "cell_type": "code",
      "execution_count": null,
      "metadata": {},
      "outputs": [],
      "source": [
        "# Creating chain "
      ]
    },
    {
      "cell_type": "code",
      "execution_count": 91,
      "metadata": {
        "id": "f8KLKbWuIHW6"
      },
      "outputs": [],
      "source": [
        "agent_runnable = prompt | model"
      ]
    },
    {
      "cell_type": "code",
      "execution_count": null,
      "metadata": {
        "id": "SbozDbS1E8b2"
      },
      "outputs": [],
      "source": [
        "def should_continue(state: AgentState) -> str:\n",
        "    \"\"\"\n",
        "    This is a conditional edge. It determines whether the agent should continue calling tools\n",
        "    or if it's ready to generate the final response.\n",
        "    \"\"\"\n",
        "    last_message = state['messages'][-1]\n",
        "    if not last_message.tool_calls:\n",
        "        return \"end\"\n",
        "    return \"continue\"\n",
        "\n",
        "def call_model(state: AgentState):\n",
        "    \"\"\"\n",
        "    This node is responsible for calling the language model.\n",
        "    \"\"\"\n",
        "    response = agent_runnable.invoke(state)\n",
        "    return {\"messages\": [response]}"
      ]
    },
    {
      "cell_type": "code",
      "execution_count": null,
      "metadata": {},
      "outputs": [],
      "source": [
        "# --- 4. Build the Graph ---\n",
        "workflow = StateGraph(AgentState)\n",
        "\n",
        "workflow.add_node(\"agent\", call_model)\n",
        "workflow.add_node(\"action\", ToolNode(all_tools))\n",
        "\n",
        "workflow.set_entry_point(\"agent\")\n",
        "\n",
        "workflow.add_conditional_edges(\n",
        "    \"agent\",\n",
        "    should_continue,\n",
        "    {\n",
        "        \"continue\": \"action\",\n",
        "        \"end\": END,\n",
        "    },\n",
        ")\n",
        "\n",
        "workflow.add_edge(\"action\", \"agent\")\n",
        "\n",
        "app = workflow.compile()"
      ]
    },
    {
      "cell_type": "code",
      "execution_count": null,
      "metadata": {},
      "outputs": [],
      "source": [
        "# ----Workflow------"
      ]
    },
    {
      "cell_type": "code",
      "execution_count": 93,
      "metadata": {
        "colab": {
          "base_uri": "https://localhost:8080/",
          "height": 290
        },
        "id": "Fh5Bpa3sFDfL",
        "outputId": "b4f3b7c3-407d-4414-d664-bd1d79c934e5"
      },
      "outputs": [
        {
          "data": {
            "image/png": "[encoded data removed]",
            "text/plain": [
              "<langgraph.graph.state.CompiledStateGraph object at 0x7f70d23a5c40>"
            ]
          },
          "execution_count": 93,
          "metadata": {},
          "output_type": "execute_result"
        }
      ],
      "source": [
        "app"
      ]
    },
    {
      "cell_type": "code",
      "execution_count": null,
      "metadata": {},
      "outputs": [],
      "source": [
        "# --- 5. Run the Agent Interactively ---"
      ]
    },
    {
      "cell_type": "code",
      "execution_count": null,
      "metadata": {
        "colab": {
          "base_uri": "https://localhost:8080/"
        },
        "id": "eeycMEeRDQTm",
        "outputId": "3e3b82f2-26dd-4e9f-c3a6-3d3e6d9b4e72"
      },
      "outputs": [
        {
          "name": "stdout",
          "output_type": "stream",
          "text": [
            "Enter your query (or type 'exit' to quit): LLUMO AI – Core Value\n",
            "\n",
            "--- Running Query: LLUMO AI – Core Value ---\n",
            "Step Output: [HumanMessage(content='LLUMO AI – Core Value', additional_kwargs={}, response_metadata={})]\n",
            "\n",
            "Step Output: [HumanMessage(content='LLUMO AI – Core Value', additional_kwargs={}, response_metadata={}), AIMessage(content='', additional_kwargs={'function_call': {'name': 'policy_lookup', 'arguments': '{\"query\": \"LLUMO AI core values\"}'}}, response_metadata={'prompt_feedback': {'block_reason': 0, 'safety_ratings': []}, 'finish_reason': 'STOP', 'model_name': 'gemini-2.0-flash', 'safety_ratings': []}, id='run--cf38a993-ca22-4506-8f5e-cef30780246d-0', tool_calls=[{'name': 'policy_lookup', 'args': {'query': 'LLUMO AI core values'}, 'id': '33a0ac17-41c2-4d45-a18b-6cde4a5783f2', 'type': 'tool_call'}], usage_metadata={'input_tokens': 214, 'output_tokens': 10, 'total_tokens': 224, 'input_token_details': {'cache_read': 0}})]\n",
            "\n",
            "Step Output: [HumanMessage(content='LLUMO AI – Core Value', additional_kwargs={}, response_metadata={}), AIMessage(content='', additional_kwargs={'function_call': {'name': 'policy_lookup', 'arguments': '{\"query\": \"LLUMO AI core values\"}'}}, response_metadata={'prompt_feedback': {'block_reason': 0, 'safety_ratings': []}, 'finish_reason': 'STOP', 'model_name': 'gemini-2.0-flash', 'safety_ratings': []}, id='run--cf38a993-ca22-4506-8f5e-cef30780246d-0', tool_calls=[{'name': 'policy_lookup', 'args': {'query': 'LLUMO AI core values'}, 'id': '33a0ac17-41c2-4d45-a18b-6cde4a5783f2', 'type': 'tool_call'}], usage_metadata={'input_tokens': 214, 'output_tokens': 10, 'total_tokens': 224, 'input_token_details': {'cache_read': 0}}), ToolMessage(content='No specific policy or FAQ document found that matches the query.', name='policy_lookup', tool_call_id='33a0ac17-41c2-4d45-a18b-6cde4a5783f2')]\n",
            "\n",
            "Step Output: [HumanMessage(content='LLUMO AI – Core Value', additional_kwargs={}, response_metadata={}), AIMessage(content='', additional_kwargs={'function_call': {'name': 'policy_lookup', 'arguments': '{\"query\": \"LLUMO AI core values\"}'}}, response_metadata={'prompt_feedback': {'block_reason': 0, 'safety_ratings': []}, 'finish_reason': 'STOP', 'model_name': 'gemini-2.0-flash', 'safety_ratings': []}, id='run--cf38a993-ca22-4506-8f5e-cef30780246d-0', tool_calls=[{'name': 'policy_lookup', 'args': {'query': 'LLUMO AI core values'}, 'id': '33a0ac17-41c2-4d45-a18b-6cde4a5783f2', 'type': 'tool_call'}], usage_metadata={'input_tokens': 214, 'output_tokens': 10, 'total_tokens': 224, 'input_token_details': {'cache_read': 0}}), ToolMessage(content='No specific policy or FAQ document found that matches the query.', name='policy_lookup', tool_call_id='33a0ac17-41c2-4d45-a18b-6cde4a5783f2'), AIMessage(content='', additional_kwargs={'function_call': {'name': 'retriever', 'arguments': '{\"query\": \"LLUMO AI core values\"}'}}, response_metadata={'prompt_feedback': {'block_reason': 0, 'safety_ratings': []}, 'finish_reason': 'STOP', 'model_name': 'gemini-2.0-flash', 'safety_ratings': []}, id='run--3f9e96d8-0b01-4b2d-818d-315f153da6d1-0', tool_calls=[{'name': 'retriever', 'args': {'query': 'LLUMO AI core values'}, 'id': '6baed7e7-56aa-4b42-b422-6a4c6f1c1d17', 'type': 'tool_call'}], usage_metadata={'input_tokens': 240, 'output_tokens': 9, 'total_tokens': 249, 'input_token_details': {'cache_read': 0}})]\n",
            "\n",
            "Step Output: [HumanMessage(content='LLUMO AI – Core Value', additional_kwargs={}, response_metadata={}), AIMessage(content='', additional_kwargs={'function_call': {'name': 'policy_lookup', 'arguments': '{\"query\": \"LLUMO AI core values\"}'}}, response_metadata={'prompt_feedback': {'block_reason': 0, 'safety_ratings': []}, 'finish_reason': 'STOP', 'model_name': 'gemini-2.0-flash', 'safety_ratings': []}, id='run--cf38a993-ca22-4506-8f5e-cef30780246d-0', tool_calls=[{'name': 'policy_lookup', 'args': {'query': 'LLUMO AI core values'}, 'id': '33a0ac17-41c2-4d45-a18b-6cde4a5783f2', 'type': 'tool_call'}], usage_metadata={'input_tokens': 214, 'output_tokens': 10, 'total_tokens': 224, 'input_token_details': {'cache_read': 0}}), ToolMessage(content='No specific policy or FAQ document found that matches the query.', name='policy_lookup', tool_call_id='33a0ac17-41c2-4d45-a18b-6cde4a5783f2'), AIMessage(content='', additional_kwargs={'function_call': {'name': 'retriever', 'arguments': '{\"query\": \"LLUMO AI core values\"}'}}, response_metadata={'prompt_feedback': {'block_reason': 0, 'safety_ratings': []}, 'finish_reason': 'STOP', 'model_name': 'gemini-2.0-flash', 'safety_ratings': []}, id='run--3f9e96d8-0b01-4b2d-818d-315f153da6d1-0', tool_calls=[{'name': 'retriever', 'args': {'query': 'LLUMO AI core values'}, 'id': '6baed7e7-56aa-4b42-b422-6a4c6f1c1d17', 'type': 'tool_call'}], usage_metadata={'input_tokens': 240, 'output_tokens': 9, 'total_tokens': 249, 'input_token_details': {'cache_read': 0}}), ToolMessage(content='[\"LLUMO AI is an evaluation-first reliability layer for LLM apps. It focuses on automated scoring, actionable insights, and cost savings via prompt compression—helping teams ship trustworthy AI.\"]', name='retriever', tool_call_id='6baed7e7-56aa-4b42-b422-6a4c6f1c1d17')]\n",
            "\n",
            "Step Output: [HumanMessage(content='LLUMO AI – Core Value', additional_kwargs={}, response_metadata={}), AIMessage(content='', additional_kwargs={'function_call': {'name': 'policy_lookup', 'arguments': '{\"query\": \"LLUMO AI core values\"}'}}, response_metadata={'prompt_feedback': {'block_reason': 0, 'safety_ratings': []}, 'finish_reason': 'STOP', 'model_name': 'gemini-2.0-flash', 'safety_ratings': []}, id='run--cf38a993-ca22-4506-8f5e-cef30780246d-0', tool_calls=[{'name': 'policy_lookup', 'args': {'query': 'LLUMO AI core values'}, 'id': '33a0ac17-41c2-4d45-a18b-6cde4a5783f2', 'type': 'tool_call'}], usage_metadata={'input_tokens': 214, 'output_tokens': 10, 'total_tokens': 224, 'input_token_details': {'cache_read': 0}}), ToolMessage(content='No specific policy or FAQ document found that matches the query.', name='policy_lookup', tool_call_id='33a0ac17-41c2-4d45-a18b-6cde4a5783f2'), AIMessage(content='', additional_kwargs={'function_call': {'name': 'retriever', 'arguments': '{\"query\": \"LLUMO AI core values\"}'}}, response_metadata={'prompt_feedback': {'block_reason': 0, 'safety_ratings': []}, 'finish_reason': 'STOP', 'model_name': 'gemini-2.0-flash', 'safety_ratings': []}, id='run--3f9e96d8-0b01-4b2d-818d-315f153da6d1-0', tool_calls=[{'name': 'retriever', 'args': {'query': 'LLUMO AI core values'}, 'id': '6baed7e7-56aa-4b42-b422-6a4c6f1c1d17', 'type': 'tool_call'}], usage_metadata={'input_tokens': 240, 'output_tokens': 9, 'total_tokens': 249, 'input_token_details': {'cache_read': 0}}), ToolMessage(content='[\"LLUMO AI is an evaluation-first reliability layer for LLM apps. It focuses on automated scoring, actionable insights, and cost savings via prompt compression—helping teams ship trustworthy AI.\"]', name='retriever', tool_call_id='6baed7e7-56aa-4b42-b422-6a4c6f1c1d17'), AIMessage(content='I was not able to find the core values of LLUMO AI. However, I found that LLUMO AI is an evaluation-first reliability layer for LLM apps. It focuses on automated scoring, actionable insights, and cost savings via prompt compression—helping teams ship trustworthy AI.', additional_kwargs={}, response_metadata={'prompt_feedback': {'block_reason': 0, 'safety_ratings': []}, 'finish_reason': 'STOP', 'model_name': 'gemini-2.0-flash', 'safety_ratings': []}, id='run--a047de96-c896-4db0-86a1-dde423aaf1ea-0', usage_metadata={'input_tokens': 290, 'output_tokens': 58, 'total_tokens': 348, 'input_token_details': {'cache_read': 0}})]\n",
            "\n",
            "\n",
            "Final Answer: I was not able to find the core values of LLUMO AI. However, I found that LLUMO AI is an evaluation-first reliability layer for LLM apps. It focuses on automated scoring, actionable insights, and cost savings via prompt compression—helping teams ship trustworthy AI.\n",
            "\n",
            "Enter your query (or type 'exit' to quit): LLUMO AI – Debugger\n",
            "\n",
            "--- Running Query: LLUMO AI – Debugger ---\n",
            "Step Output: [HumanMessage(content='LLUMO AI – Debugger', additional_kwargs={}, response_metadata={})]\n",
            "\n",
            "Step Output: [HumanMessage(content='LLUMO AI – Debugger', additional_kwargs={}, response_metadata={}), AIMessage(content='How can I help you with LLUMO AI Debugger?', additional_kwargs={}, response_metadata={'prompt_feedback': {'block_reason': 0, 'safety_ratings': []}, 'finish_reason': 'STOP', 'model_name': 'gemini-2.0-flash', 'safety_ratings': []}, id='run--e2e757e3-4976-4d4f-a54a-781cef0bd435-0', usage_metadata={'input_tokens': 214, 'output_tokens': 14, 'total_tokens': 228, 'input_token_details': {'cache_read': 0}})]\n",
            "\n",
            "\n",
            "Final Answer: How can I help you with LLUMO AI Debugger?\n",
            "\n",
            "Enter your query (or type 'exit' to quit): tell me about LLUMO AI – Debugger\n",
            "\n",
            "--- Running Query: tell me about LLUMO AI – Debugger ---\n",
            "Step Output: [HumanMessage(content='tell me about LLUMO AI – Debugger', additional_kwargs={}, response_metadata={})]\n",
            "\n",
            "Step Output: [HumanMessage(content='tell me about LLUMO AI – Debugger', additional_kwargs={}, response_metadata={}), AIMessage(content='', additional_kwargs={'function_call': {'name': 'retriever', 'arguments': '{\"query\": \"LLUMO AI \\\\u2013 Debugger\"}'}}, response_metadata={'prompt_feedback': {'block_reason': 0, 'safety_ratings': []}, 'finish_reason': 'STOP', 'model_name': 'gemini-2.0-flash', 'safety_ratings': []}, id='run--17da6c41-1b91-4035-9fed-fdd7b0c4aa13-0', tool_calls=[{'name': 'retriever', 'args': {'query': 'LLUMO AI – Debugger'}, 'id': '5c69fcda-dfae-4150-8a34-ce1f2b608ae3', 'type': 'tool_call'}], usage_metadata={'input_tokens': 217, 'output_tokens': 10, 'total_tokens': 227, 'input_token_details': {'cache_read': 0}})]\n",
            "\n",
            "Step Output: [HumanMessage(content='tell me about LLUMO AI – Debugger', additional_kwargs={}, response_metadata={}), AIMessage(content='', additional_kwargs={'function_call': {'name': 'retriever', 'arguments': '{\"query\": \"LLUMO AI \\\\u2013 Debugger\"}'}}, response_metadata={'prompt_feedback': {'block_reason': 0, 'safety_ratings': []}, 'finish_reason': 'STOP', 'model_name': 'gemini-2.0-flash', 'safety_ratings': []}, id='run--17da6c41-1b91-4035-9fed-fdd7b0c4aa13-0', tool_calls=[{'name': 'retriever', 'args': {'query': 'LLUMO AI – Debugger'}, 'id': '5c69fcda-dfae-4150-8a34-ce1f2b608ae3', 'type': 'tool_call'}], usage_metadata={'input_tokens': 217, 'output_tokens': 10, 'total_tokens': 227, 'input_token_details': {'cache_read': 0}}), ToolMessage(content='[\"LLUMO’s Debugger shows run-level logs, stepwise tool traces, and a flow graph to isolate failure points such as tool selection errors or context mismatch.\"]', name='retriever', tool_call_id='5c69fcda-dfae-4150-8a34-ce1f2b608ae3')]\n",
            "\n",
            "Step Output: [HumanMessage(content='tell me about LLUMO AI – Debugger', additional_kwargs={}, response_metadata={}), AIMessage(content='', additional_kwargs={'function_call': {'name': 'retriever', 'arguments': '{\"query\": \"LLUMO AI \\\\u2013 Debugger\"}'}}, response_metadata={'prompt_feedback': {'block_reason': 0, 'safety_ratings': []}, 'finish_reason': 'STOP', 'model_name': 'gemini-2.0-flash', 'safety_ratings': []}, id='run--17da6c41-1b91-4035-9fed-fdd7b0c4aa13-0', tool_calls=[{'name': 'retriever', 'args': {'query': 'LLUMO AI – Debugger'}, 'id': '5c69fcda-dfae-4150-8a34-ce1f2b608ae3', 'type': 'tool_call'}], usage_metadata={'input_tokens': 217, 'output_tokens': 10, 'total_tokens': 227, 'input_token_details': {'cache_read': 0}}), ToolMessage(content='[\"LLUMO’s Debugger shows run-level logs, stepwise tool traces, and a flow graph to isolate failure points such as tool selection errors or context mismatch.\"]', name='retriever', tool_call_id='5c69fcda-dfae-4150-8a34-ce1f2b608ae3'), AIMessage(content=\"LLUMO's Debugger provides run-level logs, stepwise tool traces, and a flow graph to help you identify failure points, such as tool selection errors or context mismatch.\", additional_kwargs={}, response_metadata={'prompt_feedback': {'block_reason': 0, 'safety_ratings': []}, 'finish_reason': 'STOP', 'model_name': 'gemini-2.0-flash', 'safety_ratings': []}, id='run--40159661-348b-4c0e-83a0-b5a58f51e88f-0', usage_metadata={'input_tokens': 264, 'output_tokens': 38, 'total_tokens': 302, 'input_token_details': {'cache_read': 0}})]\n",
            "\n",
            "\n",
            "Final Answer: LLUMO's Debugger provides run-level logs, stepwise tool traces, and a flow graph to help you identify failure points, such as tool selection errors or context mismatch.\n",
            "\n",
            "Enter your query (or type 'exit' to quit): Company Policy – Working Hours\n",
            "\n",
            "--- Running Query: Company Policy – Working Hours ---\n",
            "Step Output: [HumanMessage(content='Company Policy – Working Hours', additional_kwargs={}, response_metadata={})]\n",
            "\n",
            "Step Output: [HumanMessage(content='Company Policy – Working Hours', additional_kwargs={}, response_metadata={}), AIMessage(content='', additional_kwargs={'function_call': {'name': 'policy_lookup', 'arguments': '{\"query\": \"Working Hours\"}'}}, response_metadata={'prompt_feedback': {'block_reason': 0, 'safety_ratings': []}, 'finish_reason': 'STOP', 'model_name': 'gemini-2.0-flash', 'safety_ratings': []}, id='run--aba0678c-30da-403f-90c0-31556509e10d-0', tool_calls=[{'name': 'policy_lookup', 'args': {'query': 'Working Hours'}, 'id': '69cbc282-fabf-408f-90d2-d84ab147f0e7', 'type': 'tool_call'}], usage_metadata={'input_tokens': 212, 'output_tokens': 6, 'total_tokens': 218, 'input_token_details': {'cache_read': 0}})]\n",
            "\n",
            "Step Output: [HumanMessage(content='Company Policy – Working Hours', additional_kwargs={}, response_metadata={}), AIMessage(content='', additional_kwargs={'function_call': {'name': 'policy_lookup', 'arguments': '{\"query\": \"Working Hours\"}'}}, response_metadata={'prompt_feedback': {'block_reason': 0, 'safety_ratings': []}, 'finish_reason': 'STOP', 'model_name': 'gemini-2.0-flash', 'safety_ratings': []}, id='run--aba0678c-30da-403f-90c0-31556509e10d-0', tool_calls=[{'name': 'policy_lookup', 'args': {'query': 'Working Hours'}, 'id': '69cbc282-fabf-408f-90d2-d84ab147f0e7', 'type': 'tool_call'}], usage_metadata={'input_tokens': 212, 'output_tokens': 6, 'total_tokens': 218, 'input_token_details': {'cache_read': 0}}), ToolMessage(content='Standard working hours are 10:00 to 18:30 IST, Monday to Friday. Flexible timings are allowed with manager approval.', name='policy_lookup', tool_call_id='69cbc282-fabf-408f-90d2-d84ab147f0e7')]\n",
            "\n",
            "Step Output: [HumanMessage(content='Company Policy – Working Hours', additional_kwargs={}, response_metadata={}), AIMessage(content='', additional_kwargs={'function_call': {'name': 'policy_lookup', 'arguments': '{\"query\": \"Working Hours\"}'}}, response_metadata={'prompt_feedback': {'block_reason': 0, 'safety_ratings': []}, 'finish_reason': 'STOP', 'model_name': 'gemini-2.0-flash', 'safety_ratings': []}, id='run--aba0678c-30da-403f-90c0-31556509e10d-0', tool_calls=[{'name': 'policy_lookup', 'args': {'query': 'Working Hours'}, 'id': '69cbc282-fabf-408f-90d2-d84ab147f0e7', 'type': 'tool_call'}], usage_metadata={'input_tokens': 212, 'output_tokens': 6, 'total_tokens': 218, 'input_token_details': {'cache_read': 0}}), ToolMessage(content='Standard working hours are 10:00 to 18:30 IST, Monday to Friday. Flexible timings are allowed with manager approval.', name='policy_lookup', tool_call_id='69cbc282-fabf-408f-90d2-d84ab147f0e7'), AIMessage(content='Standard working hours are 10:00 to 18:30 IST, Monday to Friday. Flexible timings are allowed with manager approval.', additional_kwargs={}, response_metadata={'prompt_feedback': {'block_reason': 0, 'safety_ratings': []}, 'finish_reason': 'STOP', 'model_name': 'gemini-2.0-flash', 'safety_ratings': []}, id='run--09322497-bb21-43e3-aef6-8442fce8ffa6-0', usage_metadata={'input_tokens': 253, 'output_tokens': 32, 'total_tokens': 285, 'input_token_details': {'cache_read': 0}})]\n",
            "\n",
            "\n",
            "Final Answer: Standard working hours are 10:00 to 18:30 IST, Monday to Friday. Flexible timings are allowed with manager approval.\n",
            "\n",
            "Enter your query (or type 'exit' to quit): Finance FAQ – Reimbursements\n",
            "\n",
            "--- Running Query: Finance FAQ – Reimbursements ---\n",
            "Step Output: [HumanMessage(content='Finance FAQ – Reimbursements', additional_kwargs={}, response_metadata={})]\n",
            "\n",
            "Step Output: [HumanMessage(content='Finance FAQ – Reimbursements', additional_kwargs={}, response_metadata={}), AIMessage(content='', additional_kwargs={'function_call': {'name': 'policy_lookup', 'arguments': '{\"query\": \"Reimbursements\"}'}}, response_metadata={'prompt_feedback': {'block_reason': 0, 'safety_ratings': []}, 'finish_reason': 'STOP', 'model_name': 'gemini-2.0-flash', 'safety_ratings': []}, id='run--09e2cf7a-8c26-4173-a875-074aa6ad6eec-0', tool_calls=[{'name': 'policy_lookup', 'args': {'query': 'Reimbursements'}, 'id': 'e28b8629-f187-446b-937f-976822b492dd', 'type': 'tool_call'}], usage_metadata={'input_tokens': 213, 'output_tokens': 7, 'total_tokens': 220, 'input_token_details': {'cache_read': 0}})]\n",
            "\n",
            "Step Output: [HumanMessage(content='Finance FAQ – Reimbursements', additional_kwargs={}, response_metadata={}), AIMessage(content='', additional_kwargs={'function_call': {'name': 'policy_lookup', 'arguments': '{\"query\": \"Reimbursements\"}'}}, response_metadata={'prompt_feedback': {'block_reason': 0, 'safety_ratings': []}, 'finish_reason': 'STOP', 'model_name': 'gemini-2.0-flash', 'safety_ratings': []}, id='run--09e2cf7a-8c26-4173-a875-074aa6ad6eec-0', tool_calls=[{'name': 'policy_lookup', 'args': {'query': 'Reimbursements'}, 'id': 'e28b8629-f187-446b-937f-976822b492dd', 'type': 'tool_call'}], usage_metadata={'input_tokens': 213, 'output_tokens': 7, 'total_tokens': 220, 'input_token_details': {'cache_read': 0}}), ToolMessage(content='Submit reimbursements within 30 days. Keep original receipts. Typical settlement time is 7 business days after approval.', name='policy_lookup', tool_call_id='e28b8629-f187-446b-937f-976822b492dd')]\n",
            "\n",
            "Step Output: [HumanMessage(content='Finance FAQ – Reimbursements', additional_kwargs={}, response_metadata={}), AIMessage(content='', additional_kwargs={'function_call': {'name': 'policy_lookup', 'arguments': '{\"query\": \"Reimbursements\"}'}}, response_metadata={'prompt_feedback': {'block_reason': 0, 'safety_ratings': []}, 'finish_reason': 'STOP', 'model_name': 'gemini-2.0-flash', 'safety_ratings': []}, id='run--09e2cf7a-8c26-4173-a875-074aa6ad6eec-0', tool_calls=[{'name': 'policy_lookup', 'args': {'query': 'Reimbursements'}, 'id': 'e28b8629-f187-446b-937f-976822b492dd', 'type': 'tool_call'}], usage_metadata={'input_tokens': 213, 'output_tokens': 7, 'total_tokens': 220, 'input_token_details': {'cache_read': 0}}), ToolMessage(content='Submit reimbursements within 30 days. Keep original receipts. Typical settlement time is 7 business days after approval.', name='policy_lookup', tool_call_id='e28b8629-f187-446b-937f-976822b492dd'), AIMessage(content='Reimbursements should be submitted within 30 days, and you should keep the original receipts. The typical settlement time is 7 business days after approval.', additional_kwargs={}, response_metadata={'prompt_feedback': {'block_reason': 0, 'safety_ratings': []}, 'finish_reason': 'STOP', 'model_name': 'gemini-2.0-flash', 'safety_ratings': []}, id='run--9aa42781-923e-49e6-b46d-40ef1326b31c-0', usage_metadata={'input_tokens': 248, 'output_tokens': 33, 'total_tokens': 281, 'input_token_details': {'cache_read': 0}})]\n",
            "\n",
            "\n",
            "Final Answer: Reimbursements should be submitted within 30 days, and you should keep the original receipts. The typical settlement time is 7 business days after approval.\n",
            "\n",
            "Enter your query (or type 'exit' to quit): solve the 15% of 640\n",
            "\n",
            "--- Running Query: solve the 15% of 640 ---\n",
            "Step Output: [HumanMessage(content='solve the 15% of 640', additional_kwargs={}, response_metadata={})]\n",
            "\n",
            "Step Output: [HumanMessage(content='solve the 15% of 640', additional_kwargs={}, response_metadata={}), AIMessage(content='', additional_kwargs={'function_call': {'name': 'calculator', 'arguments': '{\"expression\": \"0.15 * 640\"}'}}, response_metadata={'prompt_feedback': {'block_reason': 0, 'safety_ratings': []}, 'finish_reason': 'STOP', 'model_name': 'gemini-2.0-flash', 'safety_ratings': []}, id='run--c28e0a58-9e95-4492-8061-b08f836045d2-0', tool_calls=[{'name': 'calculator', 'args': {'expression': '0.15 * 640'}, 'id': '2b71813a-dd95-403c-b58b-35d7cbc887d5', 'type': 'tool_call'}], usage_metadata={'input_tokens': 218, 'output_tokens': 11, 'total_tokens': 229, 'input_token_details': {'cache_read': 0}})]\n",
            "\n",
            "Step Output: [HumanMessage(content='solve the 15% of 640', additional_kwargs={}, response_metadata={}), AIMessage(content='', additional_kwargs={'function_call': {'name': 'calculator', 'arguments': '{\"expression\": \"0.15 * 640\"}'}}, response_metadata={'prompt_feedback': {'block_reason': 0, 'safety_ratings': []}, 'finish_reason': 'STOP', 'model_name': 'gemini-2.0-flash', 'safety_ratings': []}, id='run--c28e0a58-9e95-4492-8061-b08f836045d2-0', tool_calls=[{'name': 'calculator', 'args': {'expression': '0.15 * 640'}, 'id': '2b71813a-dd95-403c-b58b-35d7cbc887d5', 'type': 'tool_call'}], usage_metadata={'input_tokens': 218, 'output_tokens': 11, 'total_tokens': 229, 'input_token_details': {'cache_read': 0}}), ToolMessage(content=\"The result of the expression '0.15 * 640' is: 96.0\", name='calculator', tool_call_id='2b71813a-dd95-403c-b58b-35d7cbc887d5')]\n",
            "\n",
            "Step Output: [HumanMessage(content='solve the 15% of 640', additional_kwargs={}, response_metadata={}), AIMessage(content='', additional_kwargs={'function_call': {'name': 'calculator', 'arguments': '{\"expression\": \"0.15 * 640\"}'}}, response_metadata={'prompt_feedback': {'block_reason': 0, 'safety_ratings': []}, 'finish_reason': 'STOP', 'model_name': 'gemini-2.0-flash', 'safety_ratings': []}, id='run--c28e0a58-9e95-4492-8061-b08f836045d2-0', tool_calls=[{'name': 'calculator', 'args': {'expression': '0.15 * 640'}, 'id': '2b71813a-dd95-403c-b58b-35d7cbc887d5', 'type': 'tool_call'}], usage_metadata={'input_tokens': 218, 'output_tokens': 11, 'total_tokens': 229, 'input_token_details': {'cache_read': 0}}), ToolMessage(content=\"The result of the expression '0.15 * 640' is: 96.0\", name='calculator', tool_call_id='2b71813a-dd95-403c-b58b-35d7cbc887d5'), AIMessage(content='15% of 640 is 96.0.', additional_kwargs={}, response_metadata={'prompt_feedback': {'block_reason': 0, 'safety_ratings': []}, 'finish_reason': 'STOP', 'model_name': 'gemini-2.0-flash', 'safety_ratings': []}, id='run--516d9dcb-8aeb-40f4-b58b-36d50f3deccf-0', usage_metadata={'input_tokens': 254, 'output_tokens': 16, 'total_tokens': 270, 'input_token_details': {'cache_read': 0}})]\n",
            "\n",
            "\n",
            "Final Answer: 15% of 640 is 96.0.\n",
            "\n",
            "Enter your query (or type 'exit' to quit): 125*6 - 50\n",
            "\n",
            "--- Running Query: 125*6 - 50 ---\n",
            "Step Output: [HumanMessage(content='125*6 - 50', additional_kwargs={}, response_metadata={})]\n",
            "\n",
            "Step Output: [HumanMessage(content='125*6 - 50', additional_kwargs={}, response_metadata={}), AIMessage(content='', additional_kwargs={'function_call': {'name': 'calculator', 'arguments': '{\"expression\": \"125*6 - 50\"}'}}, response_metadata={'prompt_feedback': {'block_reason': 0, 'safety_ratings': []}, 'finish_reason': 'STOP', 'model_name': 'gemini-2.0-flash', 'safety_ratings': []}, id='run--37c19e40-3d7b-462c-a217-82e083128c27-0', tool_calls=[{'name': 'calculator', 'args': {'expression': '125*6 - 50'}, 'id': '074ce3ef-b8c4-4b9d-885e-d89af80ff11e', 'type': 'tool_call'}], usage_metadata={'input_tokens': 216, 'output_tokens': 11, 'total_tokens': 227, 'input_token_details': {'cache_read': 0}})]\n",
            "\n",
            "Step Output: [HumanMessage(content='125*6 - 50', additional_kwargs={}, response_metadata={}), AIMessage(content='', additional_kwargs={'function_call': {'name': 'calculator', 'arguments': '{\"expression\": \"125*6 - 50\"}'}}, response_metadata={'prompt_feedback': {'block_reason': 0, 'safety_ratings': []}, 'finish_reason': 'STOP', 'model_name': 'gemini-2.0-flash', 'safety_ratings': []}, id='run--37c19e40-3d7b-462c-a217-82e083128c27-0', tool_calls=[{'name': 'calculator', 'args': {'expression': '125*6 - 50'}, 'id': '074ce3ef-b8c4-4b9d-885e-d89af80ff11e', 'type': 'tool_call'}], usage_metadata={'input_tokens': 216, 'output_tokens': 11, 'total_tokens': 227, 'input_token_details': {'cache_read': 0}}), ToolMessage(content=\"The result of the expression '125*6 - 50' is: 700\", name='calculator', tool_call_id='074ce3ef-b8c4-4b9d-885e-d89af80ff11e')]\n",
            "\n",
            "Step Output: [HumanMessage(content='125*6 - 50', additional_kwargs={}, response_metadata={}), AIMessage(content='', additional_kwargs={'function_call': {'name': 'calculator', 'arguments': '{\"expression\": \"125*6 - 50\"}'}}, response_metadata={'prompt_feedback': {'block_reason': 0, 'safety_ratings': []}, 'finish_reason': 'STOP', 'model_name': 'gemini-2.0-flash', 'safety_ratings': []}, id='run--37c19e40-3d7b-462c-a217-82e083128c27-0', tool_calls=[{'name': 'calculator', 'args': {'expression': '125*6 - 50'}, 'id': '074ce3ef-b8c4-4b9d-885e-d89af80ff11e', 'type': 'tool_call'}], usage_metadata={'input_tokens': 216, 'output_tokens': 11, 'total_tokens': 227, 'input_token_details': {'cache_read': 0}}), ToolMessage(content=\"The result of the expression '125*6 - 50' is: 700\", name='calculator', tool_call_id='074ce3ef-b8c4-4b9d-885e-d89af80ff11e'), AIMessage(content='700', additional_kwargs={}, response_metadata={'prompt_feedback': {'block_reason': 0, 'safety_ratings': []}, 'finish_reason': 'STOP', 'model_name': 'gemini-2.0-flash', 'safety_ratings': []}, id='run--82edc035-357d-405d-8bd7-363be3c0d507-0', usage_metadata={'input_tokens': 251, 'output_tokens': 4, 'total_tokens': 255, 'input_token_details': {'cache_read': 0}})]\n",
            "\n",
            "\n",
            "Final Answer: 700\n",
            "\n",
            "Enter your query (or type 'exit' to quit): exit\n",
            "\n",
            "--- Session ended. Logs saved to logs.json ---\n"
          ]
        }
      ],
      "source": [
        "if __name__ == \"__main__\":\n",
        "    # --- MODIFIED: Switched to an interactive loop instead of a fixed list ---\n",
        "    while True:\n",
        "        query = input(\"Enter your query (or type 'exit' to quit): \")\n",
        "        if query.lower() in [\"exit\", \"quit\"]:\n",
        "            break\n",
        "\n",
        "        print(f\"\\n--- Running Query: {query} ---\")\n",
        "\n",
        "        inputs = {\"messages\": [HumanMessage(content=query)]}\n",
        "\n",
        "        query_log = []\n",
        "\n",
        "        for output in app.stream(inputs, stream_mode=\"values\"):\n",
        "            step_messages = output['messages']\n",
        "            query_log.append(step_messages)\n",
        "            print(f\"Step Output: {step_messages}\\n\")\n",
        "\n",
        "        final_answer = query_log[-1][-1].content\n",
        "        print(f\"\\nFinal Answer: {final_answer}\\n\")\n",
        "\n",
        "        # --- MODIFIED: Append logs to the file instead of overwriting ---\n",
        "        try:\n",
        "            with open(\"logs.json\", \"r+\") as f:\n",
        "                all_logs = json.load(f)\n",
        "        except (FileNotFoundError, json.JSONDecodeError):\n",
        "            all_logs = {}\n",
        "\n",
        "        all_logs[query] = query_log\n",
        "\n",
        "        with open(\"logs.json\", \"w\") as f:\n",
        "            def custom_serializer(o):\n",
        "                if hasattr(o, '__dict__'):\n",
        "                    return o.__dict__\n",
        "                return str(o)\n",
        "            json.dump(all_logs, f, indent=4, default=custom_serializer)\n",
        "\n",
        "    print(\"\\n--- Session ended. Logs saved to logs.json ---\")\n"
      ]
    },
    {
      "cell_type": "code",
      "execution_count": null,
      "metadata": {
        "id": "pI0SJhq_Iqs2"
      },
      "outputs": [],
      "source": []
    }
  ],
  "metadata": {
    "colab": {
      "provenance": []
    },
    "kernelspec": {
      "display_name": "Python 3",
      "name": "python3"
    },
    "language_info": {
      "name": "python"
    }
  },
  "nbformat": 4,
  "nbformat_minor": 0
}
